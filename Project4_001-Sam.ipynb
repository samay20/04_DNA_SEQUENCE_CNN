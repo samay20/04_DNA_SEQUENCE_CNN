{
 "cells": [
  {
   "cell_type": "code",
   "execution_count": 50,
   "metadata": {},
   "outputs": [],
   "source": [
    "import pandas as pd\n",
    "import numpy as np\n",
    "import matplotlib.pyplot as plt\n",
    "import seaborn as sns\n",
    "# sklearn libraries\n",
    "from sklearn.svm import SVC\n",
    "from sklearn.model_selection import train_test_split, GridSearchCV, cross_val_score\n",
    "from sklearn.preprocessing import LabelEncoder\n",
    "from sklearn.feature_extraction.text import CountVectorizer, TfidfVectorizer\n",
    "from sklearn.metrics import classification_report, confusion_matrix,accuracy_score\n",
    "from sklearn.pipeline import Pipeline\n",
    "from sklearn.naive_bayes import BernoulliNB\n",
    "from sklearn.ensemble import RandomForestClassifier, ExtraTreesClassifier\n",
    "# import keras models\n",
    "from keras.preprocessing.sequence import pad_sequences\n",
    "from keras.preprocessing.text import Tokenizer\n",
    "from keras.models import Sequential\n",
    "from keras.layers import LSTM, Dense, Dropout, Conv1D, MaxPooling1D\n",
    "from keras.layers.embeddings import Embedding\n",
    "from keras.utils import to_categorical\n",
    "from keras.layers import Bidirectional, BatchNormalization\n",
    "from keras.callbacks import EarlyStopping \n",
    "from keras import regularizers\n",
    "\n",
    "%matplotlib inline"
   ]
  },
  {
   "cell_type": "code",
   "execution_count": 51,
   "metadata": {},
   "outputs": [],
   "source": [
    "def getseq(data): \n",
    "    all_data = [rows for rows in data[0]]\n",
    "    return [all_data[i] for i in range(1,len(all_data)) if i%2!=0]"
   ]
  },
  {
   "cell_type": "code",
   "execution_count": 52,
   "metadata": {},
   "outputs": [],
   "source": [
    "prom_raw = pd.read_csv('./data/PromoterSequence.txt', header=None)\n",
    "nonprom_raw = pd.read_csv('./data/NonPromoterSequence.txt', header=None)"
   ]
  },
  {
   "cell_type": "code",
   "execution_count": 53,
   "metadata": {},
   "outputs": [],
   "source": [
    "prom = getseq(prom_raw)\n",
    "nonprom = getseq(nonprom_raw)"
   ]
  },
  {
   "cell_type": "code",
   "execution_count": 54,
   "metadata": {},
   "outputs": [],
   "source": [
    "prom_df = pd.DataFrame(prom)\n",
    "prom_df['label'] = 1\n",
    "prom_df.rename({0:'sequence','label':'label'},axis=1, inplace=True)"
   ]
  },
  {
   "cell_type": "code",
   "execution_count": 55,
   "metadata": {},
   "outputs": [],
   "source": [
    "nonprom_df = pd.DataFrame(nonprom)\n",
    "nonprom_df['label'] = 0\n",
    "nonprom_df.rename({0:'sequence','label':'label'},axis=1,inplace=True)"
   ]
  },
  {
   "cell_type": "code",
   "execution_count": 56,
   "metadata": {},
   "outputs": [],
   "source": [
    "#df = pd.concat([prom_df,nonprom_df], axis=0, ignore_index=True)"
   ]
  },
  {
   "cell_type": "code",
   "execution_count": 57,
   "metadata": {},
   "outputs": [
    {
     "data": {
      "text/plain": [
       "301"
      ]
     },
     "execution_count": 57,
     "metadata": {},
     "output_type": "execute_result"
    }
   ],
   "source": [
    "sequence_promo=[seq for seq in prom_df['sequence']]\n",
    "len(sequence_promo[0])"
   ]
  },
  {
   "cell_type": "code",
   "execution_count": 58,
   "metadata": {},
   "outputs": [],
   "source": [
    "#[row for row in df.]\n",
    "words_promo = []\n",
    "for row in sequence_promo:\n",
    "    words_promo.append([(row[i:i+4]) for i in range(len(row)-3)])"
   ]
  },
  {
   "cell_type": "code",
   "execution_count": 59,
   "metadata": {
    "scrolled": true
   },
   "outputs": [
    {
     "data": {
      "text/plain": [
       "11300"
      ]
     },
     "execution_count": 59,
     "metadata": {},
     "output_type": "execute_result"
    }
   ],
   "source": [
    "len(words_promo)"
   ]
  },
  {
   "cell_type": "code",
   "execution_count": 60,
   "metadata": {},
   "outputs": [],
   "source": [
    "sequence_nonprom=[seq for seq in nonprom_df['sequence']]"
   ]
  },
  {
   "cell_type": "code",
   "execution_count": 61,
   "metadata": {},
   "outputs": [],
   "source": [
    "words_nonprom = []\n",
    "for row in sequence_nonprom:\n",
    "    words_nonprom.append([(row[i:i+4]) for i in range(len(row)-3)])"
   ]
  },
  {
   "cell_type": "code",
   "execution_count": 62,
   "metadata": {
    "scrolled": true
   },
   "outputs": [
    {
     "data": {
      "text/plain": [
       "11300"
      ]
     },
     "execution_count": 62,
     "metadata": {},
     "output_type": "execute_result"
    }
   ],
   "source": [
    "len(words_nonprom)"
   ]
  },
  {
   "cell_type": "code",
   "execution_count": 63,
   "metadata": {},
   "outputs": [],
   "source": [
    "for i in range(len(words_promo)):\n",
    "    words_promo[i] = \" \".join(words_promo[i])\n"
   ]
  },
  {
   "cell_type": "code",
   "execution_count": 64,
   "metadata": {},
   "outputs": [],
   "source": [
    "for i in range(len(words_nonprom)):\n",
    "    words_nonprom[i] = \" \".join(words_nonprom[i])\n"
   ]
  },
  {
   "cell_type": "code",
   "execution_count": 65,
   "metadata": {},
   "outputs": [],
   "source": [
    "df_promo = pd.DataFrame(words_promo)"
   ]
  },
  {
   "cell_type": "code",
   "execution_count": 66,
   "metadata": {},
   "outputs": [],
   "source": [
    "df_non_promo = pd.DataFrame(words_nonprom)"
   ]
  },
  {
   "cell_type": "code",
   "execution_count": 67,
   "metadata": {},
   "outputs": [],
   "source": [
    "df_promo.to_csv('promo.csv', index=False, header=False)"
   ]
  },
  {
   "cell_type": "code",
   "execution_count": 68,
   "metadata": {},
   "outputs": [],
   "source": [
    "df_non_promo.to_csv('non_promo.csv', index=False, header=False)"
   ]
  },
  {
   "cell_type": "code",
   "execution_count": 69,
   "metadata": {},
   "outputs": [],
   "source": [
    "df_promo['label'] = 1\n",
    "df_non_promo['label'] = 0"
   ]
  },
  {
   "cell_type": "code",
   "execution_count": 70,
   "metadata": {},
   "outputs": [
    {
     "data": {
      "text/html": [
       "<div>\n",
       "<style scoped>\n",
       "    .dataframe tbody tr th:only-of-type {\n",
       "        vertical-align: middle;\n",
       "    }\n",
       "\n",
       "    .dataframe tbody tr th {\n",
       "        vertical-align: top;\n",
       "    }\n",
       "\n",
       "    .dataframe thead th {\n",
       "        text-align: right;\n",
       "    }\n",
       "</style>\n",
       "<table border=\"1\" class=\"dataframe\">\n",
       "  <thead>\n",
       "    <tr style=\"text-align: right;\">\n",
       "      <th></th>\n",
       "      <th>seq</th>\n",
       "      <th>label</th>\n",
       "    </tr>\n",
       "  </thead>\n",
       "  <tbody>\n",
       "    <tr>\n",
       "      <th>0</th>\n",
       "      <td>TTAA TAAT AATT ATTT TTTG TTGT TGTC GTCC TCCT C...</td>\n",
       "      <td>1</td>\n",
       "    </tr>\n",
       "    <tr>\n",
       "      <th>1</th>\n",
       "      <td>ATAG TAGC AGCT GCTC CTCA TCAA CAAA AAAT AATT A...</td>\n",
       "      <td>1</td>\n",
       "    </tr>\n",
       "    <tr>\n",
       "      <th>2</th>\n",
       "      <td>AAGC AGCT GCTT CTTC TTCC TCCC CCCT CCTT CTTT T...</td>\n",
       "      <td>1</td>\n",
       "    </tr>\n",
       "    <tr>\n",
       "      <th>3</th>\n",
       "      <td>TATG ATGT TGTA GTAG TAGA AGAA GAAT AATC ATCT T...</td>\n",
       "      <td>1</td>\n",
       "    </tr>\n",
       "    <tr>\n",
       "      <th>4</th>\n",
       "      <td>ACAT CATA ATAT TATT ATTA TTAC TACT ACTG CTGC T...</td>\n",
       "      <td>1</td>\n",
       "    </tr>\n",
       "    <tr>\n",
       "      <th>...</th>\n",
       "      <td>...</td>\n",
       "      <td>...</td>\n",
       "    </tr>\n",
       "    <tr>\n",
       "      <th>22595</th>\n",
       "      <td>TGGT GGTA GTAA TAAA AAAA AAAA AAAA AAAT AATT A...</td>\n",
       "      <td>0</td>\n",
       "    </tr>\n",
       "    <tr>\n",
       "      <th>22596</th>\n",
       "      <td>AGTG GTGC TGCA GCAA CAAC AACT ACTG CTGG TGGA G...</td>\n",
       "      <td>0</td>\n",
       "    </tr>\n",
       "    <tr>\n",
       "      <th>22597</th>\n",
       "      <td>GCAT CATG ATGG TGGA GGAT GATT ATTT TTTC TTCA T...</td>\n",
       "      <td>0</td>\n",
       "    </tr>\n",
       "    <tr>\n",
       "      <th>22598</th>\n",
       "      <td>GTGA TGAC GACC ACCA CCAG CAGG AGGT GGTT GTTT T...</td>\n",
       "      <td>0</td>\n",
       "    </tr>\n",
       "    <tr>\n",
       "      <th>22599</th>\n",
       "      <td>TCAT CATA ATAT TATT ATTG TTGA TGAA GAAA AAAA A...</td>\n",
       "      <td>0</td>\n",
       "    </tr>\n",
       "  </tbody>\n",
       "</table>\n",
       "<p>22600 rows × 2 columns</p>\n",
       "</div>"
      ],
      "text/plain": [
       "                                                     seq  label\n",
       "0      TTAA TAAT AATT ATTT TTTG TTGT TGTC GTCC TCCT C...      1\n",
       "1      ATAG TAGC AGCT GCTC CTCA TCAA CAAA AAAT AATT A...      1\n",
       "2      AAGC AGCT GCTT CTTC TTCC TCCC CCCT CCTT CTTT T...      1\n",
       "3      TATG ATGT TGTA GTAG TAGA AGAA GAAT AATC ATCT T...      1\n",
       "4      ACAT CATA ATAT TATT ATTA TTAC TACT ACTG CTGC T...      1\n",
       "...                                                  ...    ...\n",
       "22595  TGGT GGTA GTAA TAAA AAAA AAAA AAAA AAAT AATT A...      0\n",
       "22596  AGTG GTGC TGCA GCAA CAAC AACT ACTG CTGG TGGA G...      0\n",
       "22597  GCAT CATG ATGG TGGA GGAT GATT ATTT TTTC TTCA T...      0\n",
       "22598  GTGA TGAC GACC ACCA CCAG CAGG AGGT GGTT GTTT T...      0\n",
       "22599  TCAT CATA ATAT TATT ATTG TTGA TGAA GAAA AAAA A...      0\n",
       "\n",
       "[22600 rows x 2 columns]"
      ]
     },
     "execution_count": 70,
     "metadata": {},
     "output_type": "execute_result"
    }
   ],
   "source": [
    "df = pd.concat([df_promo,df_non_promo])\n",
    "\n",
    "df = df.reset_index(drop=True)\n",
    "df.rename({0:'seq','label':'label'},axis=1, inplace=True)\n",
    "df"
   ]
  },
  {
   "cell_type": "code",
   "execution_count": 71,
   "metadata": {},
   "outputs": [],
   "source": [
    "X = df['seq']\n",
    "y = df['label']\n",
    "\n",
    "y.value_counts(normalize=True)\n",
    "\n",
    "X_train, X_test, y_train, y_test = train_test_split(X,\n",
    "                                                    y,\n",
    "                                                    test_size=0.4,\n",
    "                                                    stratify=y,\n",
    "                                                    random_state=42)\n"
   ]
  },
  {
   "cell_type": "code",
   "execution_count": 72,
   "metadata": {},
   "outputs": [
    {
     "data": {
      "text/plain": [
       "Int64Index([15264, 17447,  5776, 19496,  4296,  3583, 12580, 13513, 11797,\n",
       "            11977,\n",
       "            ...\n",
       "            10207,  2929, 22554,  8710, 10021,  6952, 15961,  4601, 17193,\n",
       "            10303],\n",
       "           dtype='int64', length=13560)"
      ]
     },
     "execution_count": 72,
     "metadata": {},
     "output_type": "execute_result"
    }
   ],
   "source": [
    "X_train.index"
   ]
  },
  {
   "cell_type": "code",
   "execution_count": 73,
   "metadata": {},
   "outputs": [],
   "source": [
    "vocab_size=300\n",
    "embedding_dim=150\n",
    "max_length=200\n",
    "trunc_type='post' \n",
    "padding_type='post' \n",
    "oov_tok='<OOV>' "
   ]
  },
  {
   "cell_type": "code",
   "execution_count": 74,
   "metadata": {
    "scrolled": true
   },
   "outputs": [
    {
     "data": {
      "text/plain": [
       "1489"
      ]
     },
     "execution_count": 74,
     "metadata": {},
     "output_type": "execute_result"
    }
   ],
   "source": [
    "A=[len(X_train[i]) for i in X_train.index]\n",
    "max(A)"
   ]
  },
  {
   "cell_type": "code",
   "execution_count": 75,
   "metadata": {},
   "outputs": [],
   "source": [
    "tokenizer=Tokenizer(num_words=vocab_size,oov_token=oov_tok)\n",
    "tokenizer.fit_on_texts(X_train)"
   ]
  },
  {
   "cell_type": "code",
   "execution_count": 76,
   "metadata": {
    "scrolled": true
   },
   "outputs": [
    {
     "name": "stdout",
     "output_type": "stream",
     "text": [
      "OrderedDict([('aaat', 52818), ('aatt', 42392), ('atta', 28123), ('ttag', 14096), ('tagt', 13486), ('agta', 14056), ('gtaa', 16428), ('taat', 28323), ('aatc', 20909), ('atcg', 17802), ('tcga', 18471), ('cgaa', 18938), ('gaag', 14211), ('aagt', 22209), ('aata', 37726), ('atag', 13459), ('tagc', 11193), ('agct', 17042), ('gctg', 18458), ('ctga', 12796), ('tgag', 11527), ('gaga', 13146), ('agaa', 21870), ('gaaa', 32995), ('aaaa', 68008), ('aaac', 29593), ('aacg', 14579), ('acga', 12335), ('gtat', 15208), ('tata', 28661), ('ataa', 34459), ('taac', 15156), ('aaag', 26808), ('aagc', 18135), ('tgac', 10520), ('gacc', 7548), ('acca', 14790), ('ccac', 13212), ('cacc', 11160), ('accc', 7888), ('ccca', 12160), ('ccat', 13741), ('cata', 15459), ('atac', 15329), ('taca', 16873), ('acaa', 26437), ('caaa', 34026), ('atcc', 11651), ('tccc', 9057), ('cccc', 7046), ('ccct', 7319), ('cctc', 7597), ('ctcg', 9766), ('tcgc', 14664), ('cgca', 13913), ('gcaa', 21764), ('caag', 15496), ('aaga', 19885), ('aact', 20476), ('acta', 12944), ('ctaa', 14413), ('tccg', 10311), ('ccga', 11245), ('cgag', 11112), ('gagt', 11914), ('tatg', 14631), ('atgc', 13830), ('tgca', 19644), ('gcag', 17452), ('cagt', 16737), ('agtc', 10898), ('gtca', 11479), ('tcaa', 21537), ('agcc', 12123), ('gccg', 12103), ('ccgg', 7516), ('cggc', 11631), ('ggct', 10693), ('ctgc', 16804), ('gcac', 13038), ('accg', 9254), ('ccgc', 11555), ('caac', 17764), ('cgac', 9481), ('acct', 8853), ('ctcc', 9686), ('ccag', 13737), ('cagc', 19278), ('gccc', 9258), ('agca', 19162), ('caat', 22443), ('taaa', 42230), ('actt', 19369), ('ctta', 14068), ('ttat', 30893), ('tatt', 35451), ('tagg', 6438), ('aggg', 6328), ('gggc', 7810), ('ggca', 14166), ('gcat', 14591), ('catt', 23082), ('ttaa', 36189), ('aatg', 22900), ('atga', 14685), ('tgaa', 23371), ('ctat', 13236), ('tatc', 16042), ('atca', 17352), ('tcac', 11672), ('cact', 14814), ('taag', 15843), ('agtg', 17277), ('gtga', 13669), ('agtt', 22107), ('gtta', 14731), ('taga', 11597), ('agat', 15033), ('gatt', 19282), ('attt', 49716), ('tttg', 31846), ('ttga', 20275), ('gaac', 13369), ('aaca', 27709), ('acac', 15017), ('attg', 22546), ('ttgt', 25037), ('tgtt', 25898), ('gtct', 8494), ('tctc', 11935), ('ctct', 12274), ('tctt', 16760), ('caca', 18299), ('aagg', 12117), ('ggga', 8292), ('ggaa', 16660), ('attc', 19885), ('ttca', 22308), ('agag', 12925), ('cgga', 10961), ('gaat', 20246), ('tgct', 17644), ('gcta', 11333), ('ttta', 38986), ('actg', 14390), ('ctgg', 13341), ('tgga', 15882), ('ggag', 11086), ('gtgc', 14909), ('tgcg', 13718), ('gcgc', 12076), ('cgcc', 12170), ('gcct', 9182), ('ccta', 7164), ('acat', 18858), ('ttgc', 20228), ('tgcc', 14745), ('gcca', 18505), ('catc', 13373), ('tcgg', 10992), ('agcg', 13276), ('gcgt', 10170), ('cgtg', 9820), ('cgcg', 9597), ('acag', 13881), ('caga', 14141), ('agac', 8941), ('gact', 9532), ('ttcc', 16026), ('cgtt', 13262), ('gttc', 13549), ('ttct', 18982), ('tcta', 11662), ('ctgt', 13715), ('tgtg', 19822), ('tacg', 8308), ('gtac', 8357), ('catg', 10291), ('atgt', 18424), ('gtgt', 16228), ('tgta', 16617), ('cctt', 10725), ('cttg', 12925), ('aggc', 9019), ('gagc', 13059), ('gcga', 14256), ('gacg', 8258), ('cgat', 16738), ('tgat', 16029), ('gata', 16631), ('atat', 35353), ('tttt', 60771), ('cttt', 23340), ('gctt', 15841), ('aacc', 13144), ('tggc', 17699), ('gttt', 27476), ('cgct', 12654), ('tgtc', 11097), ('ctca', 10922), ('tcag', 13899), ('gaca', 11320), ('tttc', 29775), ('tcca', 15286), ('atct', 14456), ('tctg', 13860), ('ctac', 8219), ('tacc', 8979), ('gtcc', 7406), ('ccaa', 20011), ('tcct', 10078), ('cagg', 8815), ('ttcg', 18232), ('cctg', 9940), ('tggg', 10549), ('gggt', 6781), ('ggtt', 11221), ('cttc', 12367), ('tcat', 14997), ('cggg', 6004), ('gggg', 5481), ('ggtc', 7659), ('gtcg', 10225), ('tcgt', 11897), ('agga', 11679), ('ggat', 11311), ('gatg', 12235), ('atgg', 13095), ('tggt', 14118), ('ttgg', 18558), ('gcgg', 11280), ('ggta', 9085), ('tact', 12623), ('acgt', 9062), ('cgta', 8093), ('ctag', 7262), ('gtag', 7855), ('ttac', 14845), ('gttg', 16778), ('gagg', 8447), ('ggcg', 11209), ('gtgg', 13276), ('actc', 10748), ('ggac', 7734), ('gatc', 10956), ('cacg', 8626), ('acgg', 8303), ('cgtc', 7956), ('acgc', 10042), ('cccg', 6688), ('ccgt', 8015), ('aggt', 8774), ('ggtg', 11201), ('ggcc', 10044), ('cggt', 9505), ('gctc', 12386)])\n"
     ]
    }
   ],
   "source": [
    "print(tokenizer.word_counts)"
   ]
  },
  {
   "cell_type": "code",
   "execution_count": 77,
   "metadata": {},
   "outputs": [
    {
     "data": {
      "text/plain": [
       "256"
      ]
     },
     "execution_count": 77,
     "metadata": {},
     "output_type": "execute_result"
    }
   ],
   "source": [
    "len(tokenizer.word_counts)"
   ]
  },
  {
   "cell_type": "code",
   "execution_count": 78,
   "metadata": {},
   "outputs": [],
   "source": [
    "#total words we need = 260-40 = 220 (top unique features a.k.a. vocab_size)"
   ]
  },
  {
   "cell_type": "code",
   "execution_count": 79,
   "metadata": {},
   "outputs": [
    {
     "name": "stdout",
     "output_type": "stream",
     "text": [
      "tagc 11193\n",
      "tgag 11527\n",
      "tgac 10520\n",
      "gacc 7548\n",
      "cacc 11160\n",
      "accc 7888\n",
      "atcc 11651\n",
      "tccc 9057\n",
      "cccc 7046\n",
      "ccct 7319\n",
      "cctc 7597\n",
      "ctcg 9766\n",
      "tccg 10311\n",
      "ccga 11245\n",
      "cgag 11112\n",
      "gagt 11914\n",
      "agtc 10898\n",
      "gtca 11479\n",
      "ccgg 7516\n",
      "cggc 11631\n",
      "ggct 10693\n",
      "accg 9254\n",
      "ccgc 11555\n",
      "cgac 9481\n",
      "acct 8853\n",
      "ctcc 9686\n",
      "gccc 9258\n",
      "tagg 6438\n",
      "aggg 6328\n",
      "gggc 7810\n",
      "tcac 11672\n",
      "taga 11597\n",
      "gtct 8494\n",
      "tctc 11935\n",
      "ggga 8292\n",
      "cgga 10961\n",
      "gcta 11333\n",
      "ggag 11086\n",
      "gcct 9182\n",
      "ccta 7164\n",
      "tcgg 10992\n",
      "gcgt 10170\n",
      "cgtg 9820\n",
      "cgcg 9597\n",
      "agac 8941\n",
      "gact 9532\n",
      "tcta 11662\n",
      "tacg 8308\n",
      "gtac 8357\n",
      "catg 10291\n",
      "cctt 10725\n",
      "aggc 9019\n",
      "gacg 8258\n",
      "tgtc 11097\n",
      "ctca 10922\n",
      "gaca 11320\n",
      "ctac 8219\n",
      "tacc 8979\n",
      "gtcc 7406\n",
      "tcct 10078\n",
      "cagg 8815\n",
      "cctg 9940\n",
      "tggg 10549\n",
      "gggt 6781\n",
      "ggtt 11221\n",
      "cggg 6004\n",
      "gggg 5481\n",
      "ggtc 7659\n",
      "gtcg 10225\n",
      "tcgt 11897\n",
      "agga 11679\n",
      "ggat 11311\n",
      "gcgg 11280\n",
      "ggta 9085\n",
      "acgt 9062\n",
      "cgta 8093\n",
      "ctag 7262\n",
      "gtag 7855\n",
      "gagg 8447\n",
      "ggcg 11209\n",
      "actc 10748\n",
      "ggac 7734\n",
      "gatc 10956\n",
      "cacg 8626\n",
      "acgg 8303\n",
      "cgtc 7956\n",
      "acgc 10042\n",
      "cccg 6688\n",
      "ccgt 8015\n",
      "aggt 8774\n",
      "ggtg 11201\n",
      "ggcc 10044\n",
      "cggt 9505\n"
     ]
    },
    {
     "data": {
      "text/plain": [
       "93"
      ]
     },
     "execution_count": 79,
     "metadata": {},
     "output_type": "execute_result"
    }
   ],
   "source": [
    "len([print(key,value) for key,value in tokenizer.word_counts.items() if value < 12000])"
   ]
  },
  {
   "cell_type": "code",
   "execution_count": 80,
   "metadata": {},
   "outputs": [],
   "source": [
    "train_seq=tokenizer.texts_to_sequences(X_train)"
   ]
  },
  {
   "cell_type": "code",
   "execution_count": 81,
   "metadata": {},
   "outputs": [
    {
     "data": {
      "text/plain": [
       "'AACC ACCG CCGG CGGT GGTT GTTG TTGC TGCT GCTA CTAA TAAA AAAC AACC ACCG CCGT CGTT GTTT TTTC TTCA TCAG CAGC AGCA GCAA CAAT AATG ATGT TGTT GTTA TTAT TATT ATTT TTTA TTAA TAAC AACA ACAG CAGG AGGG GGGT GGTT GTTT TTTG TTGA TGAG GAGT AGTG GTGC TGCT GCTC CTCG TCGC CGCT GCTA CTAA TAAA AAAT AATG ATGG TGGA GGAC GACT ACTT CTTA TTAC TACG ACGA CGAA GAAA AAAT AATG ATGA TGAG GAGT AGTA GTAT TATG ATGG TGGA GGAA GAAT AATT ATTT TTTT TTTC TTCG TCGT CGTG GTGC TGCA GCAG CAGC AGCC GCCC CCCA CCAG CAGT AGTC GTCA TCAT CATG ATGG TGGT GGTC GTCA TCAC CACG ACGC CGCT GCTG CTGC TGCC GCCT CCTC CTCT TCTC CTCT TCTG CTGA TGAA GAAA AAAA AAAG AAGC AGCC GCCG CCGC CGCA GCAA CAAG AAGA AGAA GAAA AAAA AAAT AATA ATAA TAAA AAAA AAAA AAAT AATA ATAA TAAA AAAT AATA ATAT TATA ATAT TATC ATCT TCTT CTTT TTTC TTCT TCTA CTAG TAGC AGCT GCTA CTAT TATT ATTA TTAT TATT ATTA TTAT TATT ATTG TTGT TGTT GTTG TTGT TGTT GTTA TTAT TATT ATTA TTAT TATT ATTA TTAA TAAC AACA ACAA CAAA AAAA AAAA AAAT AATG ATGT TGTC GTCG TCGG CGGA GGAA GAAA AAAC AACA ACAG CAGT AGTT GTTG TTGA TGAT GATA ATAG TAGC AGCA GCAC CACA ACAG CAGA AGAG GAGG AGGT GGTA GTAA TAAA AAAG AAGT AGTC GTCG TCGC CGCC GCCG CCGT CGTC GTCG TCGT CGTA GTAC TACG ACGA CGAC GACT ACTT CTTA TTAT TATC ATCC TCCA CCAA CAAG AAGT AGTT GTTC TTCC TCCA CCAA CAAC AACT ACTG CTGA TGAA GAAG AAGC AGCG GCGA CGAA GAAT AATC ATCC TCCT CCTA CTAA TAAC AACC ACCA CCAA CAAC AACA ACAA CAAC AACA ACAG CAGC AGCG GCGT CGTT GTTA TTAG TAGG AGGA GGAA GAAA AAAA AAAG AAGT AGTA GTAT TATA ATAT TATC ATCC TCCC CCCT CCTG CTGC'"
      ]
     },
     "execution_count": 81,
     "metadata": {},
     "output_type": "execute_result"
    }
   ],
   "source": [
    "X_train[2000]"
   ]
  },
  {
   "cell_type": "code",
   "execution_count": 82,
   "metadata": {},
   "outputs": [
    {
     "data": {
      "text/plain": [
       "298"
      ]
     },
     "execution_count": 82,
     "metadata": {},
     "output_type": "execute_result"
    }
   ],
   "source": [
    "len(train_seq[2000])"
   ]
  },
  {
   "cell_type": "code",
   "execution_count": 83,
   "metadata": {},
   "outputs": [],
   "source": [
    "train_padded=pad_sequences(train_seq,maxlen=max_length, padding=padding_type, truncating=trunc_type)"
   ]
  },
  {
   "cell_type": "code",
   "execution_count": 84,
   "metadata": {},
   "outputs": [
    {
     "data": {
      "text/plain": [
       "200"
      ]
     },
     "execution_count": 84,
     "metadata": {},
     "output_type": "execute_result"
    }
   ],
   "source": [
    "len(train_padded[10000])"
   ]
  },
  {
   "cell_type": "code",
   "execution_count": 85,
   "metadata": {
    "scrolled": true
   },
   "outputs": [],
   "source": [
    "test_seq=tokenizer.texts_to_sequences(X_test)\n",
    "test_padded=pad_sequences(test_seq,maxlen=max_length, padding=padding_type, truncating=trunc_type)"
   ]
  },
  {
   "cell_type": "code",
   "execution_count": 86,
   "metadata": {},
   "outputs": [],
   "source": [
    "le=LabelEncoder()\n",
    "y_train=le.fit_transform(y_train)\n",
    "y_test=le.transform(y_test)"
   ]
  },
  {
   "cell_type": "code",
   "execution_count": 87,
   "metadata": {},
   "outputs": [],
   "source": [
    "y_train=to_categorical(y_train,2)\n",
    "y_test=to_categorical(y_test,2)\n",
    "\n"
   ]
  },
  {
   "cell_type": "code",
   "execution_count": 88,
   "metadata": {},
   "outputs": [],
   "source": [
    "early_stop = EarlyStopping(monitor='val_loss', patience= 7, min_delta= 0.01, restore_best_weights=True) "
   ]
  },
  {
   "cell_type": "code",
   "execution_count": 99,
   "metadata": {},
   "outputs": [],
   "source": [
    "# model = Sequential()\n",
    "\n",
    "\n",
    "\n",
    "# model.add(Conv1D(filters = 32,kernel_size = 4, padding ='same', strides=1, activation = 'relu',input_shape = (max_length,1)))\n",
    "# model.add(MaxPooling1D(pool_size=2))\n",
    "\n",
    "# model.add(Conv1D(filters = 32,kernel_size = 4, padding ='same', strides=1, activation = 'relu'))\n",
    "# model.add(MaxPooling1D(pool_size=2))\n",
    "\n",
    "# model.add(Dense(128, activation='relu'))\n",
    "# model.add(Dense(128, activation='relu'))\n",
    "# model.add(Dense(64, activation='relu'))\n",
    "\n",
    "# model.add(Dense(64, activation='relu'))\n",
    "# model.add(Dropout(0.4))\n",
    "\n",
    "\n",
    "# model.add(Dense(32,activation='relu'))\n",
    "\n",
    "# model.add(Dense(1, activation='sigmoid'))\n",
    "\n",
    "# model = Sequential()\n",
    "\n",
    "# model.add(Embedding(vocab_size, embedding_dim, input_length = max_length)) \n",
    "# # embedding dim - model will take care of embedding, creating 64 dimension vector to compare all words\n",
    "# model.add(Bidirectional(LSTM(16,return_sequences=True))) ## LSTM - by default activation is tanH and recurrent activation = sigmoid\n",
    "# model.add(Bidirectional(LSTM(8)))\n",
    "\n",
    "# model.add(Dense(32,activation='relu'))\n",
    "\n",
    "# model.add(Dense(2, activation='softmax'))\n",
    "\n",
    "model=Sequential()\n",
    "model.add(Embedding(vocab_size, embedding_dim, input_length=max_length))\n",
    "model.add(Bidirectional(LSTM(8)))\n",
    "model.add(Dropout(0.2))\n",
    "model.add(Dense(2,activation='softmax'))"
   ]
  },
  {
   "cell_type": "code",
   "execution_count": 100,
   "metadata": {},
   "outputs": [],
   "source": [
    "model.compile(loss='binary_crossentropy', optimizer='adam', metrics=['acc']) #binary_crossentropy"
   ]
  },
  {
   "cell_type": "code",
   "execution_count": 101,
   "metadata": {},
   "outputs": [],
   "source": [
    "train_padded2 = train_padded.reshape(train_padded.shape[0], max_length,1)\n",
    "test_padded2 = test_padded.reshape(test_padded.shape[0], max_length,1)"
   ]
  },
  {
   "cell_type": "code",
   "execution_count": 102,
   "metadata": {
    "scrolled": false
   },
   "outputs": [
    {
     "name": "stdout",
     "output_type": "stream",
     "text": [
      "Epoch 1/50\n",
      "106/106 [==============================] - 40s 311ms/step - loss: 0.6741 - acc: 0.5991 - val_loss: 0.6067 - val_acc: 0.6803\n",
      "Epoch 2/50\n",
      "106/106 [==============================] - 42s 394ms/step - loss: 0.5936 - acc: 0.6934 - val_loss: 0.5738 - val_acc: 0.7015\n",
      "Epoch 3/50\n",
      "106/106 [==============================] - 36s 337ms/step - loss: 0.5572 - acc: 0.7205 - val_loss: 0.5622 - val_acc: 0.7119\n",
      "Epoch 4/50\n",
      "106/106 [==============================] - 38s 361ms/step - loss: 0.5409 - acc: 0.7307 - val_loss: 0.6067 - val_acc: 0.6518\n",
      "Epoch 5/50\n",
      "106/106 [==============================] - 45s 424ms/step - loss: 0.5762 - acc: 0.6933 - val_loss: 0.5815 - val_acc: 0.6918\n",
      "Epoch 6/50\n",
      "106/106 [==============================] - 35s 333ms/step - loss: 0.5615 - acc: 0.7147 - val_loss: 0.5633 - val_acc: 0.7094\n",
      "Epoch 7/50\n",
      "106/106 [==============================] - 38s 355ms/step - loss: 0.5451 - acc: 0.7276 - val_loss: 0.5781 - val_acc: 0.6855\n",
      "Epoch 8/50\n",
      "106/106 [==============================] - 36s 345ms/step - loss: 0.5300 - acc: 0.7403 - val_loss: 0.5384 - val_acc: 0.7241\n",
      "Epoch 9/50\n",
      "106/106 [==============================] - 33s 312ms/step - loss: 0.5105 - acc: 0.7513 - val_loss: 0.5315 - val_acc: 0.7346\n",
      "Epoch 10/50\n",
      "106/106 [==============================] - 33s 314ms/step - loss: 0.5086 - acc: 0.7513 - val_loss: 0.5396 - val_acc: 0.7306\n",
      "Epoch 11/50\n",
      "106/106 [==============================] - 33s 309ms/step - loss: 0.4988 - acc: 0.7679 - val_loss: 0.5253 - val_acc: 0.7408\n",
      "Epoch 12/50\n",
      "106/106 [==============================] - 33s 309ms/step - loss: 0.4936 - acc: 0.7613 - val_loss: 0.5271 - val_acc: 0.7387\n",
      "Epoch 13/50\n",
      "106/106 [==============================] - 33s 309ms/step - loss: 0.4779 - acc: 0.7732 - val_loss: 0.5155 - val_acc: 0.7460\n",
      "Epoch 14/50\n",
      "106/106 [==============================] - 34s 316ms/step - loss: 0.4683 - acc: 0.7829 - val_loss: 0.5203 - val_acc: 0.7458\n",
      "Epoch 15/50\n",
      "106/106 [==============================] - 31s 297ms/step - loss: 0.4788 - acc: 0.7796 - val_loss: 0.5282 - val_acc: 0.7409\n",
      "Epoch 16/50\n",
      "106/106 [==============================] - 31s 290ms/step - loss: 0.4693 - acc: 0.7772 - val_loss: 0.5121 - val_acc: 0.7546\n",
      "Epoch 17/50\n",
      "106/106 [==============================] - 33s 309ms/step - loss: 0.4515 - acc: 0.7900 - val_loss: 0.5206 - val_acc: 0.7503\n",
      "Epoch 18/50\n",
      "106/106 [==============================] - 36s 340ms/step - loss: 0.4458 - acc: 0.7946 - val_loss: 0.5222 - val_acc: 0.7509\n",
      "Epoch 19/50\n",
      "106/106 [==============================] - 32s 305ms/step - loss: 0.4449 - acc: 0.7975 - val_loss: 0.5173 - val_acc: 0.7493\n",
      "Epoch 20/50\n",
      "106/106 [==============================] - 31s 296ms/step - loss: 0.4401 - acc: 0.7944 - val_loss: 0.5227 - val_acc: 0.7450\n",
      "Epoch 21/50\n",
      "106/106 [==============================] - 31s 293ms/step - loss: 0.4442 - acc: 0.7952 - val_loss: 0.5094 - val_acc: 0.7545\n",
      "Epoch 22/50\n",
      "106/106 [==============================] - 33s 309ms/step - loss: 0.4348 - acc: 0.8038 - val_loss: 0.5133 - val_acc: 0.7540\n",
      "Epoch 23/50\n",
      "106/106 [==============================] - 31s 290ms/step - loss: 0.4341 - acc: 0.8053 - val_loss: 0.5036 - val_acc: 0.7555\n"
     ]
    }
   ],
   "source": [
    "history=model.fit(train_padded,y_train,validation_data=(test_padded,y_test),batch_size=128, epochs=50, callbacks=[early_stop])"
   ]
  },
  {
   "cell_type": "code",
   "execution_count": null,
   "metadata": {},
   "outputs": [],
   "source": [
    "## 0.9133 abd 0.8588"
   ]
  },
  {
   "cell_type": "code",
   "execution_count": null,
   "metadata": {},
   "outputs": [],
   "source": [
    "testmain_df = pd.read_csv('data/testSam.csv')\n"
   ]
  },
  {
   "cell_type": "code",
   "execution_count": null,
   "metadata": {},
   "outputs": [],
   "source": [
    "sequence=[seq for seq in testmain_df['Sequence']]\n",
    "\n",
    "words_test_promo = []\n",
    "for row in sequence_promo:\n",
    "    words_test_promo.append([(row[i:i+4]) for i in range(len(row)-3)])\n",
    "\n",
    "for i in range(len(words_test_promo)):\n",
    "    words_test_promo[i] = \" \".join(words_test_promo[i])\n",
    "\n",
    "testmain_df_plus=pd.DataFrame(words_test_promo)\n",
    "testmain_df_plus = testmain_df_plus.reset_index(drop=True)\n",
    "testmain_df_plus.rename({0:'seq'},axis=1, inplace=True)\n",
    "testmain_df_plus['seq']"
   ]
  },
  {
   "cell_type": "code",
   "execution_count": null,
   "metadata": {},
   "outputs": [],
   "source": [
    "#tokenizer.fit_on_texts(testmain_df_plus['seq'])\n",
    "testmain_seq=tokenizer.texts_to_sequences(testmain_df_plus['seq'])\n",
    "testmain_padded=pad_sequences(testmain_seq,maxlen=max_length, padding=padding_type, truncating=trunc_type)\n",
    "testmain_padded"
   ]
  },
  {
   "cell_type": "code",
   "execution_count": null,
   "metadata": {},
   "outputs": [],
   "source": [
    "y_pred=model.predict(testmain_padded)\n",
    "len(y_pred)"
   ]
  },
  {
   "cell_type": "code",
   "execution_count": null,
   "metadata": {},
   "outputs": [],
   "source": [
    "y_pred"
   ]
  },
  {
   "cell_type": "code",
   "execution_count": null,
   "metadata": {},
   "outputs": [],
   "source": [
    "y_pred_plus=[0 if y_pred[i][0]>=0.5 else 1 for i in range(0,len(y_pred))]\n",
    "y_pred_plus "
   ]
  },
  {
   "cell_type": "code",
   "execution_count": null,
   "metadata": {},
   "outputs": [],
   "source": [
    "testmain_df['predictions']=y_pred_plus"
   ]
  },
  {
   "cell_type": "code",
   "execution_count": null,
   "metadata": {},
   "outputs": [],
   "source": [
    "testmain_df.to_csv('./data/testSam_RNN.csv',index=False)"
   ]
  },
  {
   "cell_type": "code",
   "execution_count": null,
   "metadata": {},
   "outputs": [],
   "source": [
    "test_data.to_csv('./data/testSam.csv',index=False)"
   ]
  },
  {
   "cell_type": "code",
   "execution_count": null,
   "metadata": {},
   "outputs": [],
   "source": []
  }
 ],
 "metadata": {
  "kernelspec": {
   "display_name": "Python 3",
   "language": "python",
   "name": "python3"
  },
  "language_info": {
   "codemirror_mode": {
    "name": "ipython",
    "version": 3
   },
   "file_extension": ".py",
   "mimetype": "text/x-python",
   "name": "python",
   "nbconvert_exporter": "python",
   "pygments_lexer": "ipython3",
   "version": "3.8.5"
  }
 },
 "nbformat": 4,
 "nbformat_minor": 4
}
