{
 "cells": [
  {
   "cell_type": "code",
   "execution_count": 1,
   "metadata": {},
   "outputs": [],
   "source": [
    "import pandas as pd\n",
    "import numpy as np\n",
    "import matplotlib.pyplot as plt\n",
    "import seaborn as sns\n",
    "import re\n",
    "from nltk.tokenize import RegexpTokenizer\n",
    "\n",
    "%matplotlib inline"
   ]
  },
  {
   "cell_type": "code",
   "execution_count": 2,
   "metadata": {},
   "outputs": [],
   "source": [
    "def getseq(data): \n",
    "    all_data = [rows for rows in data[0]]\n",
    "    return [all_data[i] for i in range(1,len(all_data))]"
   ]
  },
  {
   "cell_type": "code",
   "execution_count": 3,
   "metadata": {},
   "outputs": [],
   "source": [
    "prom_raw = pd.read_csv('./data/PromoterSequence.txt', header=None)\n",
    "nonprom_raw = pd.read_csv('./data/NonPromoterSequence.txt', header=None)"
   ]
  },
  {
   "cell_type": "code",
   "execution_count": 4,
   "metadata": {},
   "outputs": [],
   "source": [
    "test = pd.read_csv('./data/test.csv', header=None)"
   ]
  },
  {
   "cell_type": "code",
   "execution_count": 5,
   "metadata": {},
   "outputs": [
    {
     "data": {
      "text/plain": [
       "179"
      ]
     },
     "execution_count": 5,
     "metadata": {},
     "output_type": "execute_result"
    }
   ],
   "source": [
    "len(test)"
   ]
  },
  {
   "cell_type": "code",
   "execution_count": 6,
   "metadata": {},
   "outputs": [],
   "source": [
    "promdf = getseq(prom_raw)\n",
    "nonpromdf = getseq(nonprom_raw)"
   ]
  },
  {
   "cell_type": "code",
   "execution_count": 7,
   "metadata": {},
   "outputs": [],
   "source": [
    "test_seq = getseq(test)"
   ]
  },
  {
   "cell_type": "code",
   "execution_count": 8,
   "metadata": {},
   "outputs": [
    {
     "data": {
      "text/plain": [
       "178"
      ]
     },
     "execution_count": 8,
     "metadata": {},
     "output_type": "execute_result"
    }
   ],
   "source": [
    "len(test_seq)"
   ]
  },
  {
   "cell_type": "code",
   "execution_count": 15,
   "metadata": {},
   "outputs": [],
   "source": [
    "promseq = [promdf[i] for i in range(len(promdf)) if i%2==0]\n",
    "nonpromseq = [nonpromdf[i] for i in range(len(nonpromdf)) if i%2==0]"
   ]
  },
  {
   "cell_type": "code",
   "execution_count": 21,
   "metadata": {
    "scrolled": false
   },
   "outputs": [],
   "source": [
    "def bagofwords(sequence):\n",
    "    words = []\n",
    "    for row in sequence:\n",
    "        words.append([(row[i:i+4]) for i in range(len(row)-5)])\n",
    "                    \n",
    "    return words"
   ]
  },
  {
   "cell_type": "code",
   "execution_count": 26,
   "metadata": {},
   "outputs": [],
   "source": [
    "test_df_bagged = bagofwords(test_seq)"
   ]
  },
  {
   "cell_type": "code",
   "execution_count": null,
   "metadata": {},
   "outputs": [],
   "source": []
  },
  {
   "cell_type": "code",
   "execution_count": 22,
   "metadata": {},
   "outputs": [],
   "source": [
    "promdata = bagofwords(promseq)\n",
    "nonpromdata = bagofwords(nonpromseq)"
   ]
  },
  {
   "cell_type": "code",
   "execution_count": 24,
   "metadata": {},
   "outputs": [],
   "source": [
    "for words in range(len(promdata)):\n",
    "    promdata[words] = \" \".join(promdata[words])"
   ]
  },
  {
   "cell_type": "code",
   "execution_count": 25,
   "metadata": {},
   "outputs": [],
   "source": [
    "for words in range(len(nonpromdata)):\n",
    "    nonpromdata[words] = \" \".join(nonpromdata[words])"
   ]
  },
  {
   "cell_type": "code",
   "execution_count": 27,
   "metadata": {},
   "outputs": [],
   "source": [
    "for words in range(len(test_df_bagged)):\n",
    "    test_df_bagged[words] = \" \".join(test_df_bagged[words])"
   ]
  },
  {
   "cell_type": "code",
   "execution_count": 28,
   "metadata": {},
   "outputs": [],
   "source": [
    "promdata_df = pd.DataFrame(promdata)\n",
    "nonpromdata_df = pd.DataFrame(nonpromdata)\n",
    "testdata_df = pd.DataFrame(test_df_bagged)"
   ]
  },
  {
   "cell_type": "code",
   "execution_count": 41,
   "metadata": {},
   "outputs": [],
   "source": [
    "promdata_df['label'] = 1\n",
    "nonpromdata_df['label'] = 0\n",
    "train_data = pd.concat([promdata_df,nonpromdata_df]).reset_index(drop=True)"
   ]
  },
  {
   "cell_type": "code",
   "execution_count": 50,
   "metadata": {},
   "outputs": [],
   "source": [
    "test_data = pd.DataFrame(test_df_bagged)"
   ]
  },
  {
   "cell_type": "code",
   "execution_count": 46,
   "metadata": {},
   "outputs": [
    {
     "data": {
      "text/plain": [
       "1479"
      ]
     },
     "execution_count": 46,
     "metadata": {},
     "output_type": "execute_result"
    }
   ],
   "source": [
    "len(train_data[0][1])"
   ]
  },
  {
   "cell_type": "code",
   "execution_count": 53,
   "metadata": {},
   "outputs": [],
   "source": [
    "def tocsv(df,seq):\n",
    "    df.to_csv('./data2/'+seq+'_bagged.csv', index=False)"
   ]
  },
  {
   "cell_type": "code",
   "execution_count": 56,
   "metadata": {},
   "outputs": [],
   "source": [
    "tocsv(test_data,'test_data')"
   ]
  },
  {
   "cell_type": "code",
   "execution_count": 55,
   "metadata": {},
   "outputs": [],
   "source": [
    "tocsv(train_data,'train_data')"
   ]
  },
  {
   "cell_type": "code",
   "execution_count": 52,
   "metadata": {},
   "outputs": [
    {
     "data": {
      "text/html": [
       "<div>\n",
       "<style scoped>\n",
       "    .dataframe tbody tr th:only-of-type {\n",
       "        vertical-align: middle;\n",
       "    }\n",
       "\n",
       "    .dataframe tbody tr th {\n",
       "        vertical-align: top;\n",
       "    }\n",
       "\n",
       "    .dataframe thead th {\n",
       "        text-align: right;\n",
       "    }\n",
       "</style>\n",
       "<table border=\"1\" class=\"dataframe\">\n",
       "  <thead>\n",
       "    <tr style=\"text-align: right;\">\n",
       "      <th></th>\n",
       "      <th>0</th>\n",
       "      <th>label</th>\n",
       "    </tr>\n",
       "  </thead>\n",
       "  <tbody>\n",
       "    <tr>\n",
       "      <th>0</th>\n",
       "      <td>TTAA TAAT AATT ATTT TTTG TTGT TGTC GTCC TCCT C...</td>\n",
       "      <td>1</td>\n",
       "    </tr>\n",
       "    <tr>\n",
       "      <th>1</th>\n",
       "      <td>ATAG TAGC AGCT GCTC CTCA TCAA CAAA AAAT AATT A...</td>\n",
       "      <td>1</td>\n",
       "    </tr>\n",
       "    <tr>\n",
       "      <th>2</th>\n",
       "      <td>AAGC AGCT GCTT CTTC TTCC TCCC CCCT CCTT CTTT T...</td>\n",
       "      <td>1</td>\n",
       "    </tr>\n",
       "    <tr>\n",
       "      <th>3</th>\n",
       "      <td>TATG ATGT TGTA GTAG TAGA AGAA GAAT AATC ATCT T...</td>\n",
       "      <td>1</td>\n",
       "    </tr>\n",
       "    <tr>\n",
       "      <th>4</th>\n",
       "      <td>ACAT CATA ATAT TATT ATTA TTAC TACT ACTG CTGC T...</td>\n",
       "      <td>1</td>\n",
       "    </tr>\n",
       "    <tr>\n",
       "      <th>...</th>\n",
       "      <td>...</td>\n",
       "      <td>...</td>\n",
       "    </tr>\n",
       "    <tr>\n",
       "      <th>22595</th>\n",
       "      <td>TGGT GGTA GTAA TAAA AAAA AAAA AAAA AAAT AATT A...</td>\n",
       "      <td>0</td>\n",
       "    </tr>\n",
       "    <tr>\n",
       "      <th>22596</th>\n",
       "      <td>AGTG GTGC TGCA GCAA CAAC AACT ACTG CTGG TGGA G...</td>\n",
       "      <td>0</td>\n",
       "    </tr>\n",
       "    <tr>\n",
       "      <th>22597</th>\n",
       "      <td>GCAT CATG ATGG TGGA GGAT GATT ATTT TTTC TTCA T...</td>\n",
       "      <td>0</td>\n",
       "    </tr>\n",
       "    <tr>\n",
       "      <th>22598</th>\n",
       "      <td>GTGA TGAC GACC ACCA CCAG CAGG AGGT GGTT GTTT T...</td>\n",
       "      <td>0</td>\n",
       "    </tr>\n",
       "    <tr>\n",
       "      <th>22599</th>\n",
       "      <td>TCAT CATA ATAT TATT ATTG TTGA TGAA GAAA AAAA A...</td>\n",
       "      <td>0</td>\n",
       "    </tr>\n",
       "  </tbody>\n",
       "</table>\n",
       "<p>22600 rows × 2 columns</p>\n",
       "</div>"
      ],
      "text/plain": [
       "                                                       0  label\n",
       "0      TTAA TAAT AATT ATTT TTTG TTGT TGTC GTCC TCCT C...      1\n",
       "1      ATAG TAGC AGCT GCTC CTCA TCAA CAAA AAAT AATT A...      1\n",
       "2      AAGC AGCT GCTT CTTC TTCC TCCC CCCT CCTT CTTT T...      1\n",
       "3      TATG ATGT TGTA GTAG TAGA AGAA GAAT AATC ATCT T...      1\n",
       "4      ACAT CATA ATAT TATT ATTA TTAC TACT ACTG CTGC T...      1\n",
       "...                                                  ...    ...\n",
       "22595  TGGT GGTA GTAA TAAA AAAA AAAA AAAA AAAT AATT A...      0\n",
       "22596  AGTG GTGC TGCA GCAA CAAC AACT ACTG CTGG TGGA G...      0\n",
       "22597  GCAT CATG ATGG TGGA GGAT GATT ATTT TTTC TTCA T...      0\n",
       "22598  GTGA TGAC GACC ACCA CCAG CAGG AGGT GGTT GTTT T...      0\n",
       "22599  TCAT CATA ATAT TATT ATTG TTGA TGAA GAAA AAAA A...      0\n",
       "\n",
       "[22600 rows x 2 columns]"
      ]
     },
     "execution_count": 52,
     "metadata": {},
     "output_type": "execute_result"
    }
   ],
   "source": [
    "train_data"
   ]
  },
  {
   "cell_type": "code",
   "execution_count": null,
   "metadata": {},
   "outputs": [],
   "source": []
  }
 ],
 "metadata": {
  "kernelspec": {
   "display_name": "Python 3",
   "language": "python",
   "name": "python3"
  },
  "language_info": {
   "codemirror_mode": {
    "name": "ipython",
    "version": 3
   },
   "file_extension": ".py",
   "mimetype": "text/x-python",
   "name": "python",
   "nbconvert_exporter": "python",
   "pygments_lexer": "ipython3",
   "version": "3.8.5"
  }
 },
 "nbformat": 4,
 "nbformat_minor": 4
}
