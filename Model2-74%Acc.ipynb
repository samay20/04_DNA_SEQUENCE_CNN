{
 "cells": [
  {
   "cell_type": "code",
   "execution_count": 1,
   "metadata": {},
   "outputs": [],
   "source": [
    "import pandas as pd\n",
    "import numpy as np\n",
    "import matplotlib.pyplot as plt\n",
    "import seaborn as sns\n",
    "\n",
    "from sklearn.svm import SVC\n",
    "from sklearn.model_selection import train_test_split, GridSearchCV, cross_val_score\n",
    "from sklearn.linear_model import LogisticRegression\n",
    "from sklearn.feature_extraction.text import CountVectorizer, TfidfVectorizer, TfidfTransformer\n",
    "from sklearn.metrics import classification_report, confusion_matrix,accuracy_score\n",
    "from sklearn.pipeline import Pipeline\n",
    "from sklearn.naive_bayes import BernoulliNB\n",
    "\n",
    "\n",
    "np.random.seed(42)\n",
    "\n",
    "from keras.models import Sequential\n",
    "from keras.layers import Dense, Dropout, Flatten, Conv2D, MaxPooling2D, LSTM\n",
    "from keras import utils\n",
    "from keras.preprocessing.text import Tokenizer\n",
    "from keras.preprocessing.sequence import pad_sequences\n",
    "from keras.layers.embeddings import Embedding\n",
    "from keras.callbacks import EarlyStopping\n",
    "\n",
    "\n",
    " \n",
    "%matplotlib inline"
   ]
  },
  {
   "cell_type": "code",
   "execution_count": 2,
   "metadata": {},
   "outputs": [],
   "source": [
    "trainmain_df = pd.read_csv('./data3/train_data_bagged.csv')\n",
    "testmain_df = pd.read_csv('./data3/test_data_bagged.csv')"
   ]
  },
  {
   "cell_type": "code",
   "execution_count": 3,
   "metadata": {},
   "outputs": [],
   "source": [
    "trainmain_df.rename({'0':'sequence','label':'label'},axis=1,inplace=True)"
   ]
  },
  {
   "cell_type": "code",
   "execution_count": 4,
   "metadata": {},
   "outputs": [
    {
     "data": {
      "text/plain": [
       "Index(['sequence', 'label'], dtype='object')"
      ]
     },
     "execution_count": 4,
     "metadata": {},
     "output_type": "execute_result"
    }
   ],
   "source": [
    "trainmain_df.columns"
   ]
  },
  {
   "cell_type": "code",
   "execution_count": 5,
   "metadata": {},
   "outputs": [],
   "source": [
    "X = trainmain_df['sequence'].values\n",
    "y = trainmain_df['label'].values"
   ]
  },
  {
   "cell_type": "code",
   "execution_count": 6,
   "metadata": {},
   "outputs": [],
   "source": [
    "X_train, X_test, y_train, y_test = train_test_split(X,\n",
    "                                                    y,\n",
    "                                                    test_size=0.2,\n",
    "                                                    random_state=42)"
   ]
  },
  {
   "cell_type": "code",
   "execution_count": 7,
   "metadata": {},
   "outputs": [
    {
     "data": {
      "text/plain": [
       "(18080,)"
      ]
     },
     "execution_count": 7,
     "metadata": {},
     "output_type": "execute_result"
    }
   ],
   "source": [
    "X_train.shape"
   ]
  },
  {
   "cell_type": "code",
   "execution_count": 8,
   "metadata": {},
   "outputs": [],
   "source": [
    "vocab_size = 256\n",
    "#embedding_dim = 64\n",
    "max_length = 128\n",
    "trunc_type = 'post'\n",
    "padding_type = 'post'"
   ]
  },
  {
   "cell_type": "code",
   "execution_count": 9,
   "metadata": {},
   "outputs": [],
   "source": [
    "tokenizer = Tokenizer(num_words=vocab_size)\n",
    "tokenizer.fit_on_texts(X_train)"
   ]
  },
  {
   "cell_type": "code",
   "execution_count": 26,
   "metadata": {},
   "outputs": [
    {
     "name": "stdout",
     "output_type": "stream",
     "text": [
      "OrderedDict([('taac', 20135), ('aaca', 36949), ('acat', 24968), ('catt', 30500), ('attt', 66115), ('tttg', 42523), ('ttgt', 33439), ('tgtg', 26526), ('gtgt', 21895), ('tgtt', 34663), ('gttt', 37178), ('tttt', 81761), ('ttta', 51826), ('ttaa', 48205), ('taat', 37860), ('aatt', 56673), ('attg', 29852), ('tgtc', 14889), ('gtca', 15501), ('tcat', 20009), ('catg', 13692), ('atgc', 18411), ('tgcc', 19351), ('gccc', 12202), ('cccc', 9165), ('ccct', 9608), ('cctt', 14110), ('cttt', 30882), ('ttag', 18982), ('tagt', 18093), ('agtt', 29511), ('ttac', 19692), ('tacg', 11206), ('acgc', 13473), ('cgct', 16741), ('gcta', 14939), ('ctag', 9564), ('taga', 15509), ('agaa', 29142), ('gaaa', 43554), ('aaac', 39579), ('aact', 27259), ('actt', 25623), ('ctta', 18837), ('tagc', 14779), ('agct', 22629), ('ctac', 11078), ('tact', 16794), ('cttc', 16654), ('ttcc', 21251), ('tcct', 13490), ('ccta', 9463), ('tagg', 8619), ('aggt', 11820), ('ggtc', 10114), ('gtcg', 13625), ('tcga', 24610), ('cgag', 15051), ('gaga', 17841), ('agag', 17452), ('gagc', 17335), ('gctg', 24714), ('ctgg', 17704), ('tggc', 23583), ('ggcc', 13402), ('gcca', 24607), ('ccac', 17595), ('caca', 24428), ('acac', 19979), ('cact', 19747), ('actc', 14388), ('ctct', 16593), ('tctt', 22638), ('cttg', 17146), ('ttgg', 24733), ('ggca', 18881), ('gcat', 19497), ('atgt', 24599), ('gtct', 11301), ('gtta', 19635), ('ttat', 41211), ('tatc', 21287), ('atcg', 23639), ('cgat', 22506), ('gata', 22234), ('ataa', 45851), ('attc', 26665), ('tccc', 11947), ('cccg', 8869), ('ccgc', 15299), ('cgcc', 16210), ('ttct', 25667), ('tctg', 18445), ('ctga', 16919), ('tgag', 15437), ('agca', 25682), ('ttga', 26959), ('gagt', 15976), ('agta', 18815), ('gtat', 20170), ('tata', 37795), ('atat', 46761), ('tatt', 47106), ('ttgc', 26705), ('tgcg', 18377), ('gcga', 19059), ('cgaa', 24863), ('gaac', 17739), ('acta', 17431), ('ctat', 17475), ('tacc', 11897), ('acca', 19869), ('ccaa', 26620), ('caat', 29989), ('tgaa', 31116), ('gaat', 26949), ('aata', 49980), ('tgat', 21453), ('aatc', 27868), ('atca', 23094), ('tcag', 18729), ('cagg', 12005), ('aggg', 8450), ('gggc', 10591), ('ccca', 16071), ('ccag', 18267), ('cagt', 22273), ('agtg', 23295), ('gtga', 18221), ('gaag', 18842), ('aagt', 29714), ('gtgg', 17712), ('gcaa', 29182), ('caag', 20792), ('aagc', 24362), ('agcg', 17708), ('gcgt', 13523), ('cgtc', 10751), ('atga', 19698), ('gtgc', 20008), ('cagc', 25668), ('caac', 23609), ('acaa', 35416), ('caaa', 45577), ('aaag', 35635), ('aagg', 15938), ('aggc', 12114), ('ggcg', 15044), ('gcgg', 15136), ('cggt', 12686), ('ggtt', 15137), ('taca', 22417), ('aaga', 26445), ('agac', 11984), ('gacg', 10907), ('gccg', 16140), ('cgcg', 12730), ('cgga', 14504), ('ggaa', 21993), ('agga', 15401), ('ggag', 14540), ('aacc', 17414), ('acct', 11585), ('cctc', 10004), ('ctca', 14703), ('gtcc', 9780), ('tcca', 20106), ('ccat', 18126), ('tcac', 15655), ('cacc', 14909), ('ttcg', 24523), ('tcgg', 14651), ('gagg', 11237), ('atcc', 15489), ('tccg', 13749), ('ccga', 15089), ('ctaa', 19228), ('tttc', 39915), ('atta', 37639), ('agcc', 16062), ('cctg', 13148), ('ctgt', 18266), ('gatt', 25939), ('tgca', 26357), ('cata', 20713), ('catc', 17715), ('atct', 19204), ('tcta', 15466), ('taaa', 56274), ('aaat', 70206), ('aatg', 30587), ('atgg', 17371), ('tggt', 18896), ('tctc', 16215), ('gttg', 22283), ('gatg', 16242), ('tgct', 23500), ('gctt', 21106), ('ctgc', 22469), ('tcaa', 28788), ('acag', 18568), ('gaca', 15152), ('caga', 19011), ('aaaa', 90665), ('ttca', 29862), ('tcgc', 19395), ('gctc', 16473), ('ggct', 14356), ('ctcc', 12808), ('atac', 20364), ('cgta', 10843), ('atag', 17870), ('aacg', 19449), ('acgg', 10966), ('cggg', 8035), ('gggg', 7312), ('gcag', 23395), ('cgtg', 13094), ('tgta', 22127), ('gtaa', 22097), ('gtag', 10524), ('gcac', 17410), ('acga', 16485), ('accg', 12378), ('taag', 21209), ('gcgc', 16119), ('cgca', 18602), ('tcgt', 16098), ('cgtt', 17826), ('gttc', 18071), ('agtc', 14451), ('actg', 19064), ('acgt', 12151), ('gtac', 11179), ('cggc', 15446), ('ggga', 10873), ('ggat', 14834), ('gcct', 12046), ('cacg', 11527), ('accc', 10451), ('ccgt', 10764), ('agat', 20252), ('tggg', 14012), ('gggt', 9022), ('gatc', 14594), ('gacc', 10139), ('tgac', 13820), ('tgga', 21007), ('ggtg', 15016), ('ggac', 10375), ('ctcg', 12981), ('gact', 12703), ('cgac', 12760), ('tatg', 19539), ('ggta', 12160), ('ccgg', 9945), ('nnnn', 37), ('nnng', 1), ('nnga', 1), ('ngaa', 1)])\n"
     ]
    }
   ],
   "source": [
    "print(tokenizer.word_counts)"
   ]
  },
  {
   "cell_type": "code",
   "execution_count": 10,
   "metadata": {},
   "outputs": [],
   "source": [
    "X_train = tokenizer.texts_to_sequences(X_train)\n",
    "X_test = tokenizer.texts_to_sequences(X_test)"
   ]
  },
  {
   "cell_type": "code",
   "execution_count": 11,
   "metadata": {},
   "outputs": [],
   "source": [
    "train_padded = pad_sequences(X_train, padding=padding_type, truncating=trunc_type)"
   ]
  },
  {
   "cell_type": "code",
   "execution_count": 12,
   "metadata": {},
   "outputs": [],
   "source": [
    "test_padded = pad_sequences(X_test, padding=padding_type, truncating=trunc_type)"
   ]
  },
  {
   "cell_type": "code",
   "execution_count": 13,
   "metadata": {},
   "outputs": [],
   "source": [
    "early_stop = EarlyStopping(monitor='val_loss', patience= 10, min_delta= 0.01) "
   ]
  },
  {
   "cell_type": "code",
   "execution_count": 14,
   "metadata": {},
   "outputs": [],
   "source": [
    "from keras import regularizers\n",
    "from keras.layers import Bidirectional"
   ]
  },
  {
   "cell_type": "code",
   "execution_count": 18,
   "metadata": {},
   "outputs": [],
   "source": [
    "model = Sequential()\n",
    "\n",
    "# input layer\n",
    "model.add(Dense(128,  activation='relu'))\n",
    "#model.add(Dropout(0.05))\n",
    "\n",
    "# hidden layer\n",
    "model.add(Dense(64, activation='relu'))  #,kernel_regularizer= regularizers.l2(0.05)\n",
    "#model.add(Dropout(0.05))\n",
    "\n",
    "model.add(Dense(64, activation='relu'))  #,kernel_regularizer= regularizers.l2(0.05)\n",
    "#model.add(Dropout(0.05))\n",
    "\n",
    "model.add(Dense(64, activation='relu'))  #,kernel_regularizer= regularizers.l2(0.05)\n",
    "#model.add(Dropout(0.05))\n",
    "\n",
    "model.add(Dense(64, activation='relu'))  #,kernel_regularizer= regularizers.l2(0.05)\n",
    "#model.add(Dropout(0.05))\n",
    "\n",
    "\n",
    "#model.add(layers.Conv1D(128, 5, activation='relu'))\n",
    "#model.add(layers.GlobalMaxPooling1D())\n",
    "\n",
    "\n",
    "# hidden layer\n",
    "model.add(Dense(32, activation='relu'))\n",
    "\n",
    "# output layer\n",
    "model.add(Dense(units=1,activation='sigmoid'))\n",
    "\n",
    "# Compile model\n",
    "model.compile(loss='binary_crossentropy', metrics=['acc'])"
   ]
  },
  {
   "cell_type": "code",
   "execution_count": 21,
   "metadata": {},
   "outputs": [
    {
     "name": "stdout",
     "output_type": "stream",
     "text": [
      "Epoch 1/100\n",
      "904/904 [==============================] - 3s 3ms/step - loss: 0.5896 - acc: 0.7860 - val_loss: 1.4822 - val_acc: 0.7308\n",
      "Epoch 2/100\n",
      "904/904 [==============================] - 2s 2ms/step - loss: 0.5135 - acc: 0.7829 - val_loss: 0.8774 - val_acc: 0.7100\n",
      "Epoch 3/100\n",
      "904/904 [==============================] - 2s 3ms/step - loss: 0.5677 - acc: 0.7833 - val_loss: 1.1049 - val_acc: 0.7254\n",
      "Epoch 4/100\n",
      "904/904 [==============================] - 2s 2ms/step - loss: 0.5350 - acc: 0.7878 - val_loss: 3.4279 - val_acc: 0.6894\n",
      "Epoch 5/100\n",
      "904/904 [==============================] - 2s 2ms/step - loss: 0.5052 - acc: 0.7850 - val_loss: 0.8072 - val_acc: 0.7144\n",
      "Epoch 6/100\n",
      "904/904 [==============================] - 3s 3ms/step - loss: 0.5550 - acc: 0.7986 - val_loss: 0.5783 - val_acc: 0.7330\n",
      "Epoch 7/100\n",
      "904/904 [==============================] - 2s 2ms/step - loss: 0.4742 - acc: 0.7959 - val_loss: 4.1111 - val_acc: 0.7192\n",
      "Epoch 8/100\n",
      "904/904 [==============================] - 2s 2ms/step - loss: 0.5542 - acc: 0.7825 - val_loss: 4.5776 - val_acc: 0.7312\n",
      "Epoch 9/100\n",
      "904/904 [==============================] - 2s 2ms/step - loss: 0.6614 - acc: 0.7916 - val_loss: 1.6267 - val_acc: 0.7288\n",
      "Epoch 10/100\n",
      "904/904 [==============================] - 2s 2ms/step - loss: 0.6176 - acc: 0.7857 - val_loss: 1.2024 - val_acc: 0.7241\n",
      "Epoch 11/100\n",
      "904/904 [==============================] - 2s 3ms/step - loss: 0.4542 - acc: 0.7975 - val_loss: 3.6078 - val_acc: 0.7179\n",
      "Epoch 12/100\n",
      "904/904 [==============================] - 2s 3ms/step - loss: 0.4811 - acc: 0.7999 - val_loss: 1.8630 - val_acc: 0.7088\n",
      "Epoch 13/100\n",
      "904/904 [==============================] - 2s 2ms/step - loss: 0.5038 - acc: 0.7994 - val_loss: 0.6479 - val_acc: 0.7190\n",
      "Epoch 14/100\n",
      "904/904 [==============================] - 2s 2ms/step - loss: 0.4468 - acc: 0.8083 - val_loss: 2.1003 - val_acc: 0.7135\n",
      "Epoch 15/100\n",
      "904/904 [==============================] - 2s 3ms/step - loss: 0.4818 - acc: 0.8064 - val_loss: 1.2458 - val_acc: 0.7113\n",
      "Epoch 16/100\n",
      "904/904 [==============================] - 2s 3ms/step - loss: 0.4659 - acc: 0.8116 - val_loss: 1.0230 - val_acc: 0.7206\n"
     ]
    },
    {
     "data": {
      "text/plain": [
       "<tensorflow.python.keras.callbacks.History at 0x7f8b35330d90>"
      ]
     },
     "execution_count": 21,
     "metadata": {},
     "output_type": "execute_result"
    }
   ],
   "source": [
    "model.fit(train_padded, y_train, validation_data=(test_padded,y_test), epochs=100, batch_size=20, callbacks=[early_stop])\n",
    "\n",
    "##batch size = 128\n",
    "##, callbacks=[early_stop]"
   ]
  },
  {
   "cell_type": "code",
   "execution_count": null,
   "metadata": {},
   "outputs": [],
   "source": []
  },
  {
   "cell_type": "code",
   "execution_count": null,
   "metadata": {},
   "outputs": [],
   "source": []
  }
 ],
 "metadata": {
  "kernelspec": {
   "display_name": "Python 3",
   "language": "python",
   "name": "python3"
  },
  "language_info": {
   "codemirror_mode": {
    "name": "ipython",
    "version": 3
   },
   "file_extension": ".py",
   "mimetype": "text/x-python",
   "name": "python",
   "nbconvert_exporter": "python",
   "pygments_lexer": "ipython3",
   "version": "3.8.5"
  }
 },
 "nbformat": 4,
 "nbformat_minor": 4
}
